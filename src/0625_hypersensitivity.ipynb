{
 "cells": [
  {
   "cell_type": "code",
   "execution_count": 2,
   "metadata": {},
   "outputs": [
    {
     "name": "stderr",
     "output_type": "stream",
     "text": [
      "/cluster/shz24/anaconda3/lib/python3.6/site-packages/ipykernel_launcher.py:22: UserWarning: \n",
      "This call to matplotlib.use() has no effect because the backend has already\n",
      "been chosen; matplotlib.use() must be called *before* pylab, matplotlib.pyplot,\n",
      "or matplotlib.backends is imported for the first time.\n",
      "\n",
      "The backend was *originally* set to 'module://ipykernel.pylab.backend_inline' by the following code:\n",
      "  File \"/cluster/shz24/anaconda3/lib/python3.6/runpy.py\", line 193, in _run_module_as_main\n",
      "    \"__main__\", mod_spec)\n",
      "  File \"/cluster/shz24/anaconda3/lib/python3.6/runpy.py\", line 85, in _run_code\n",
      "    exec(code, run_globals)\n",
      "  File \"/cluster/shz24/anaconda3/lib/python3.6/site-packages/ipykernel_launcher.py\", line 16, in <module>\n",
      "    app.launch_new_instance()\n",
      "  File \"/cluster/shz24/anaconda3/lib/python3.6/site-packages/traitlets/config/application.py\", line 658, in launch_instance\n",
      "    app.start()\n",
      "  File \"/cluster/shz24/anaconda3/lib/python3.6/site-packages/ipykernel/kernelapp.py\", line 478, in start\n",
      "    self.io_loop.start()\n",
      "  File \"/cluster/shz24/anaconda3/lib/python3.6/site-packages/zmq/eventloop/ioloop.py\", line 177, in start\n",
      "    super(ZMQIOLoop, self).start()\n",
      "  File \"/cluster/shz24/anaconda3/lib/python3.6/site-packages/tornado/ioloop.py\", line 888, in start\n",
      "    handler_func(fd_obj, events)\n",
      "  File \"/cluster/shz24/anaconda3/lib/python3.6/site-packages/tornado/stack_context.py\", line 277, in null_wrapper\n",
      "    return fn(*args, **kwargs)\n",
      "  File \"/cluster/shz24/anaconda3/lib/python3.6/site-packages/zmq/eventloop/zmqstream.py\", line 440, in _handle_events\n",
      "    self._handle_recv()\n",
      "  File \"/cluster/shz24/anaconda3/lib/python3.6/site-packages/zmq/eventloop/zmqstream.py\", line 472, in _handle_recv\n",
      "    self._run_callback(callback, msg)\n",
      "  File \"/cluster/shz24/anaconda3/lib/python3.6/site-packages/zmq/eventloop/zmqstream.py\", line 414, in _run_callback\n",
      "    callback(*args, **kwargs)\n",
      "  File \"/cluster/shz24/anaconda3/lib/python3.6/site-packages/tornado/stack_context.py\", line 277, in null_wrapper\n",
      "    return fn(*args, **kwargs)\n",
      "  File \"/cluster/shz24/anaconda3/lib/python3.6/site-packages/ipykernel/kernelbase.py\", line 283, in dispatcher\n",
      "    return self.dispatch_shell(stream, msg)\n",
      "  File \"/cluster/shz24/anaconda3/lib/python3.6/site-packages/ipykernel/kernelbase.py\", line 233, in dispatch_shell\n",
      "    handler(stream, idents, msg)\n",
      "  File \"/cluster/shz24/anaconda3/lib/python3.6/site-packages/ipykernel/kernelbase.py\", line 399, in execute_request\n",
      "    user_expressions, allow_stdin)\n",
      "  File \"/cluster/shz24/anaconda3/lib/python3.6/site-packages/ipykernel/ipkernel.py\", line 208, in do_execute\n",
      "    res = shell.run_cell(code, store_history=store_history, silent=silent)\n",
      "  File \"/cluster/shz24/anaconda3/lib/python3.6/site-packages/ipykernel/zmqshell.py\", line 537, in run_cell\n",
      "    return super(ZMQInteractiveShell, self).run_cell(*args, **kwargs)\n",
      "  File \"/cluster/shz24/anaconda3/lib/python3.6/site-packages/IPython/core/interactiveshell.py\", line 2728, in run_cell\n",
      "    interactivity=interactivity, compiler=compiler, result=result)\n",
      "  File \"/cluster/shz24/anaconda3/lib/python3.6/site-packages/IPython/core/interactiveshell.py\", line 2856, in run_ast_nodes\n",
      "    if self.run_code(code, result):\n",
      "  File \"/cluster/shz24/anaconda3/lib/python3.6/site-packages/IPython/core/interactiveshell.py\", line 2910, in run_code\n",
      "    exec(code_obj, self.user_global_ns, self.user_ns)\n",
      "  File \"<ipython-input-1-c5e5b59c6a56>\", line 28, in <module>\n",
      "    get_ipython().run_line_magic('matplotlib', 'inline')\n",
      "  File \"/cluster/shz24/anaconda3/lib/python3.6/site-packages/IPython/core/interactiveshell.py\", line 2095, in run_line_magic\n",
      "    result = fn(*args,**kwargs)\n",
      "  File \"<decorator-gen-107>\", line 2, in matplotlib\n",
      "  File \"/cluster/shz24/anaconda3/lib/python3.6/site-packages/IPython/core/magic.py\", line 187, in <lambda>\n",
      "    call = lambda f, *a, **k: f(*a, **k)\n",
      "  File \"/cluster/shz24/anaconda3/lib/python3.6/site-packages/IPython/core/magics/pylab.py\", line 99, in matplotlib\n",
      "    gui, backend = self.shell.enable_matplotlib(args.gui)\n",
      "  File \"/cluster/shz24/anaconda3/lib/python3.6/site-packages/IPython/core/interactiveshell.py\", line 2978, in enable_matplotlib\n",
      "    pt.activate_matplotlib(backend)\n",
      "  File \"/cluster/shz24/anaconda3/lib/python3.6/site-packages/IPython/core/pylabtools.py\", line 308, in activate_matplotlib\n",
      "    matplotlib.pyplot.switch_backend(backend)\n",
      "  File \"/cluster/shz24/anaconda3/lib/python3.6/site-packages/matplotlib/pyplot.py\", line 234, in switch_backend\n",
      "    _backend_mod, new_figure_manager, draw_if_interactive, _show = pylab_setup()\n",
      "  File \"/cluster/shz24/anaconda3/lib/python3.6/site-packages/matplotlib/backends/__init__.py\", line 60, in pylab_setup\n",
      "    [backend_name], 0)\n",
      "  File \"/cluster/shz24/anaconda3/lib/python3.6/site-packages/ipykernel/pylab/backend_inline.py\", line 165, in <module>\n",
      "    _enable_matplotlib_integration()\n",
      "  File \"/cluster/shz24/anaconda3/lib/python3.6/site-packages/ipykernel/pylab/backend_inline.py\", line 155, in _enable_matplotlib_integration\n",
      "    activate_matplotlib(backend)\n",
      "  File \"/cluster/shz24/anaconda3/lib/python3.6/site-packages/IPython/core/pylabtools.py\", line 308, in activate_matplotlib\n",
      "    matplotlib.pyplot.switch_backend(backend)\n",
      "  File \"/cluster/shz24/anaconda3/lib/python3.6/site-packages/matplotlib/pyplot.py\", line 232, in switch_backend\n",
      "    matplotlib.use(newbackend, warn=False, force=True)\n",
      "  File \"/cluster/shz24/anaconda3/lib/python3.6/site-packages/matplotlib/__init__.py\", line 1305, in use\n",
      "    reload(sys.modules['matplotlib.backends'])\n",
      "  File \"/cluster/shz24/anaconda3/lib/python3.6/importlib/__init__.py\", line 166, in reload\n",
      "    _bootstrap._exec(spec, module)\n",
      "  File \"/cluster/shz24/anaconda3/lib/python3.6/site-packages/matplotlib/backends/__init__.py\", line 14, in <module>\n",
      "    line for line in traceback.format_stack()\n",
      "\n",
      "\n"
     ]
    }
   ],
   "source": [
    "import os, re\n",
    "import pandas as pd\n",
    "import numpy as np\n",
    "from pyfaidx import Fasta \n",
    "\n",
    "import importlib\n",
    "import _config\n",
    "importlib.reload(_config)\n",
    "from _config import DATA_DIR, OUT_PLACE \n",
    "\n",
    "#use your data directory to locate your data files\n",
    "NOREPEATS_DATA_DIR = os.path.join(DATA_DIR, \"no_repeats\")\n",
    "HYPER_DATA_DIR = os.path.join(DATA_DIR, \"encode\")\n",
    "\n",
    "OUT_DIR = os.path.join(OUT_PLACE,\"eccdna\")\n",
    "if not os.path.isdir(OUT_DIR): os.makedirs(OUT_DIR)\n",
    "    \n",
    "from sklearn import linear_model\n",
    "from sklearn.preprocessing import StandardScaler\n",
    "from sklearn.model_selection import train_test_split\n",
    "import matplotlib\n",
    "matplotlib.use('agg')\n",
    "import matplotlib.pyplot as plt\n",
    "from matplotlib.ticker import FormatStrFormatter\n",
    "from matplotlib.backends.backend_pdf import PdfPages\n",
    "import argparse\n",
    "import seaborn as sns\n",
    "%matplotlib inline"
   ]
  },
  {
   "cell_type": "code",
   "execution_count": 3,
   "metadata": {},
   "outputs": [],
   "source": [
    "refseq = pd.read_csv(\"/cluster/bh0085/genomes/mm10_refseq.csv\", delimiter = \"\\t\")\n",
    "gene_bounds =pd.concat([refseq.groupby(\"name2\").cdsStart.min().rename(\"start\"),\n",
    "                    refseq.groupby(\"name2\").cdsEnd.max().rename(\"end\"),\n",
    "                   refseq.groupby(\"name2\").chrom.first().rename(\"chrom\"),\n",
    "                   refseq.groupby(\"name2\").strand.first().rename(\"strand\")], axis = 1)\n",
    "gene_bounds = gene_bounds.loc[gene_bounds.end-gene_bounds.start < 1000000] #filters out genes that are larger than 1 mil\n",
    "#gene bounds = index: name2, columns: start, end, chrom, strand\n",
    "#region defined as (start-10000, end+10,000)\n",
    "#create 2 columns for hypersensitivity in ES and MN cells\n",
    "\n",
    "# MN_path = os.path.join(HYPER_DATA_DIR, \"MN_ENCFF840MRT.bed\")\n",
    "# MN_loci = pd.read_csv(MN_path, names = [\"chrom\", \"start\", \"end\", \"name\", \"score\",\"strand\", \"sigval\",\n",
    "                                      \"pval\", \"qval\"], delimiter = \"\\t\")\n",
    "\n",
    "ES_path = os.path.join(HYPER_DATA_DIR, \"ES_ENCFF319IPQ.bed\")\n",
    "ES_loci = pd.read_csv(ES_path, names = [\"chrom\", \"start\", \"end\", \"name\", \"score\",\"strand\", \"sigval\",\n",
    "                                      \"pval\", \"qval\"], delimiter = \"\\t\")"
   ]
  },
  {
   "cell_type": "code",
   "execution_count": 4,
   "metadata": {},
   "outputs": [
    {
     "name": "stdout",
     "output_type": "stream",
     "text": [
      "143271\n",
      "129748\n",
      "85809\n"
     ]
    }
   ],
   "source": [
    "MN_new_path = os.path.join(HYPER_DATA_DIR, \"ENCFF979URU.bed\")\n",
    "MN_new_loci = pd.read_csv(MN_new_path, names = [\"chrom\", \"start\", \"end\", \"name\", \"score\",\"strand\", \"sigval\",\n",
    "                                      \"pval\", \"qval\"], delimiter = \"\\t\")"
   ]
  },
  {
   "cell_type": "code",
   "execution_count": 5,
   "metadata": {},
   "outputs": [],
   "source": [
    "gene_bounds[\"MN_hyper_cov\"] = pd.Series([0 for x in range(len(gene_bounds.index))], index=gene_bounds.index)\n",
    "gene_bounds[\"ES_hyper_cov\"] = pd.Series([0 for x in range(len(gene_bounds.index))], index=gene_bounds.index)\n",
    "gene_bounds[\"start_region\"] = gene_bounds.start-10000\n",
    "gene_bounds[\"end_region\"] = gene_bounds.end+10000\n",
    "# trick - only look in the chromosome you're currently (MN_chrom1)"
   ]
  },
  {
   "cell_type": "code",
   "execution_count": 20,
   "metadata": {},
   "outputs": [],
   "source": [
    "chrom1_test = gene_bounds.loc[gene_bounds.chrom=='chr1']"
   ]
  },
  {
   "cell_type": "code",
   "execution_count": 6,
   "metadata": {},
   "outputs": [],
   "source": [
    "ES_chrom1 = ES_loci.loc[ES_loci.chrom=='chr1']\n",
    "MN_chrom1_new = MN_new_loci.loc[MN_new_loci.chrom=='chr1']"
   ]
  },
  {
   "cell_type": "code",
   "execution_count": 8,
   "metadata": {},
   "outputs": [],
   "source": [
    "chrom1_test_copy = chrom1_test"
   ]
  },
  {
   "cell_type": "code",
   "execution_count": 89,
   "metadata": {},
   "outputs": [],
   "source": [
    "ES_chrom2 = ES_loci.loc[(ES_loci.chrom==\"chr2\")]\n",
    "MN_chrom2 = MN_new_loci.loc[(MN_new_loci.chrom=='chr2')]"
   ]
  },
  {
   "cell_type": "code",
   "execution_count": 97,
   "metadata": {},
   "outputs": [],
   "source": [
    "ES_chrom3 = ES_loci.loc[(ES_loci.chrom==\"chr3\")]\n",
    "MN_chrom3 = MN_new_loci.loc[(MN_new_loci.chrom=='chr3')]"
   ]
  },
  {
   "cell_type": "code",
   "execution_count": null,
   "metadata": {},
   "outputs": [],
   "source": [
    "def hyper_coverage(loci, celltype, cellfile):\n",
    "    for gene in loci.itertuples():\n",
    "        for h in celltype.itertuples():\n",
    "            start = max(gene.start_region, h.start)\n",
    "            end = min(gene.end_region, h.end)\n",
    "            length = max(0, end-start)\n",
    "            loci.at[gene.Index, celltype + \"_hyper_cov\"] = loci.at[gene.Index, celltype + \"_hyper_cov\"]+length"
   ]
  },
  {
   "cell_type": "code",
   "execution_count": 9,
   "metadata": {},
   "outputs": [],
   "source": [
    "for gene in chrom1_test_copy.itertuples():\n",
    "    for h in ES_chrom1.itertuples():\n",
    "        start = max(gene.start_region, h.start)\n",
    "        end = min(gene.end_region, h.end)\n",
    "        length = max(0, end-start)\n",
    "        chrom1_test_copy.at[gene.Index, \"ES_hyper_cov\"] = chrom1_test_copy.at[gene.Index, \"ES_hyper_cov\"]+length"
   ]
  },
  {
   "cell_type": "code",
   "execution_count": 21,
   "metadata": {},
   "outputs": [],
   "source": [
    "for gene in chrom1_test_copy.itertuples():\n",
    "    for h in MN_chrom1_new.itertuples():\n",
    "        start = max(gene.start_region, h.start)\n",
    "        end = min(gene.end_region, h.end)\n",
    "        length = max(0, end-start)\n",
    "        chrom1_test_copy.at[gene.Index, \"MN_hyper_cov\"] = chrom1_test_copy.at[gene.Index, \"MN_hyper_cov\"]+length"
   ]
  },
  {
   "cell_type": "code",
   "execution_count": 88,
   "metadata": {},
   "outputs": [],
   "source": [
    "chrom2_test = gene_bounds.loc[(gene_bounds.chrom=='chr2')]"
   ]
  },
  {
   "cell_type": "code",
   "execution_count": 98,
   "metadata": {},
   "outputs": [],
   "source": [
    "chrom3_test = gene_bounds.loc[(gene_bounds.chrom==\"chr3\")]"
   ]
  },
  {
   "cell_type": "code",
   "execution_count": 90,
   "metadata": {},
   "outputs": [],
   "source": [
    "#testing chrom 2\n",
    "for gene in chrom2_test.itertuples():\n",
    "    for h in MN_chrom2.itertuples():\n",
    "        start = max(gene.start_region, h.start)\n",
    "        end = min(gene.end_region, h.end)\n",
    "        length = max(0, end-start)\n",
    "        chrom2_test.at[gene.Index, \"MN_hyper_cov\"] = chrom2_test.at[gene.Index, \"MN_hyper_cov\"]+length"
   ]
  },
  {
   "cell_type": "code",
   "execution_count": 91,
   "metadata": {},
   "outputs": [],
   "source": [
    "for gene in chrom2_test.itertuples():\n",
    "    for h in ES_chrom2.itertuples():\n",
    "        start = max(gene.start_region, h.start)\n",
    "        end = min(gene.end_region, h.end)\n",
    "        length = max(0, end-start)\n",
    "        chrom2_test.at[gene.Index, \"ES_hyper_cov\"] = chrom2_test.at[gene.Index, \"ES_hyper_cov\"]+length"
   ]
  },
  {
   "cell_type": "code",
   "execution_count": 99,
   "metadata": {},
   "outputs": [],
   "source": [
    "#testing chrom 3\n",
    "for gene in chrom3_test.itertuples():\n",
    "    for h in MN_chrom3.itertuples():\n",
    "        start = max(gene.start_region, h.start)\n",
    "        end = min(gene.end_region, h.end)\n",
    "        length = max(0, end-start)\n",
    "        chrom3_test.at[gene.Index, \"MN_hyper_cov\"] = chrom3_test.at[gene.Index, \"MN_hyper_cov\"]+length"
   ]
  },
  {
   "cell_type": "code",
   "execution_count": 100,
   "metadata": {},
   "outputs": [],
   "source": [
    "for gene in chrom3_test.itertuples():\n",
    "    for h in ES_chrom3.itertuples():\n",
    "        start = max(gene.start_region, h.start)\n",
    "        end = min(gene.end_region, h.end)\n",
    "        length = max(0, end-start)\n",
    "        chrom3_test.at[gene.Index, \"ES_hyper_cov\"] = chrom3_test.at[gene.Index, \"ES_hyper_cov\"]+length"
   ]
  },
  {
   "cell_type": "code",
   "execution_count": 10,
   "metadata": {},
   "outputs": [
    {
     "name": "stderr",
     "output_type": "stream",
     "text": [
      "/cluster/shz24/anaconda3/lib/python3.6/site-packages/pandas/core/generic.py:3643: SettingWithCopyWarning: \n",
      "A value is trying to be set on a copy of a slice from a DataFrame.\n",
      "Try using .loc[row_indexer,col_indexer] = value instead\n",
      "\n",
      "See the caveats in the documentation: http://pandas.pydata.org/pandas-docs/stable/indexing.html#indexing-view-versus-copy\n",
      "  self[name] = value\n"
     ]
    }
   ],
   "source": [
    "chrom1_test_copy.ES_hyper_cov = chrom1_test_copy.ES_hyper_cov/100"
   ]
  },
  {
   "cell_type": "code",
   "execution_count": 22,
   "metadata": {},
   "outputs": [
    {
     "name": "stderr",
     "output_type": "stream",
     "text": [
      "/cluster/shz24/anaconda3/lib/python3.6/site-packages/pandas/core/generic.py:3643: SettingWithCopyWarning: \n",
      "A value is trying to be set on a copy of a slice from a DataFrame.\n",
      "Try using .loc[row_indexer,col_indexer] = value instead\n",
      "\n",
      "See the caveats in the documentation: http://pandas.pydata.org/pandas-docs/stable/indexing.html#indexing-view-versus-copy\n",
      "  self[name] = value\n"
     ]
    }
   ],
   "source": [
    "chrom1_test_copy.MN_hyper_cov = chrom1_test_copy.MN_hyper_cov/100"
   ]
  },
  {
   "cell_type": "code",
   "execution_count": 92,
   "metadata": {},
   "outputs": [
    {
     "name": "stderr",
     "output_type": "stream",
     "text": [
      "/cluster/shz24/anaconda3/lib/python3.6/site-packages/pandas/core/generic.py:3643: SettingWithCopyWarning: \n",
      "A value is trying to be set on a copy of a slice from a DataFrame.\n",
      "Try using .loc[row_indexer,col_indexer] = value instead\n",
      "\n",
      "See the caveats in the documentation: http://pandas.pydata.org/pandas-docs/stable/indexing.html#indexing-view-versus-copy\n",
      "  self[name] = value\n"
     ]
    }
   ],
   "source": [
    "chrom2_test.ES_hyper_cov = chrom2_test.ES_hyper_cov/100\n",
    "chrom2_test.MN_hyper_cov = chrom2_test.MN_hyper_cov/100"
   ]
  },
  {
   "cell_type": "code",
   "execution_count": 101,
   "metadata": {},
   "outputs": [
    {
     "name": "stderr",
     "output_type": "stream",
     "text": [
      "/cluster/shz24/anaconda3/lib/python3.6/site-packages/pandas/core/generic.py:3643: SettingWithCopyWarning: \n",
      "A value is trying to be set on a copy of a slice from a DataFrame.\n",
      "Try using .loc[row_indexer,col_indexer] = value instead\n",
      "\n",
      "See the caveats in the documentation: http://pandas.pydata.org/pandas-docs/stable/indexing.html#indexing-view-versus-copy\n",
      "  self[name] = value\n"
     ]
    }
   ],
   "source": [
    "chrom3_test.ES_hyper_cov = chrom3_test.ES_hyper_cov/100\n",
    "chrom3_test.MN_hyper_cov = chrom3_test.MN_hyper_cov/100"
   ]
  },
  {
   "cell_type": "code",
   "execution_count": 17,
   "metadata": {},
   "outputs": [],
   "source": [
    "def gene_counts(genes, celltype, threshold):\n",
    "    return len(genes.loc[genes[celltype] > threshold])"
   ]
  },
  {
   "cell_type": "code",
   "execution_count": 23,
   "metadata": {},
   "outputs": [
    {
     "data": {
      "text/plain": [
       "[<matplotlib.lines.Line2D at 0x7f64f99d6f60>]"
      ]
     },
     "execution_count": 23,
     "metadata": {},
     "output_type": "execute_result"
    },
    {
     "data": {
      "image/png": "[encoded data removed]",
      "text/plain": [
       "<matplotlib.figure.Figure at 0x7f64f9a33588>"
      ]
     },
     "metadata": {},
     "output_type": "display_data"
    }
   ],
   "source": [
    "xindex = np.arange(100)\n",
    "lst = np.zeros(100)\n",
    "for i in xindex:\n",
    "    lst[i] = gene_counts(chrom1_test_copy, \"MN_hyper_cov\", i)\n",
    "plt.plot(xindex, lst)"
   ]
  },
  {
   "cell_type": "code",
   "execution_count": 24,
   "metadata": {},
   "outputs": [
    {
     "data": {
      "text/plain": [
       "[<matplotlib.lines.Line2D at 0x7f64f8f47c50>]"
      ]
     },
     "execution_count": 24,
     "metadata": {},
     "output_type": "execute_result"
    },
    {
     "data": {
      "image/png": "[encoded data removed]",
      "text/plain": [
       "<matplotlib.figure.Figure at 0x7f64f9a03940>"
      ]
     },
     "metadata": {},
     "output_type": "display_data"
    }
   ],
   "source": [
    "xindex = np.arange(100)\n",
    "lst = np.zeros(100)\n",
    "for i in xindex:\n",
    "    lst[i] = gene_counts(chrom1_test_copy, \"ES_hyper_cov\", i)\n",
    "plt.plot(xindex, lst)"
   ]
  },
  {
   "cell_type": "code",
   "execution_count": 93,
   "metadata": {},
   "outputs": [
    {
     "data": {
      "text/plain": [
       "[<matplotlib.lines.Line2D at 0x7f64f82331d0>]"
      ]
     },
     "execution_count": 93,
     "metadata": {},
     "output_type": "execute_result"
    },
    {
     "data": {
      "image/png": "[encoded data removed]",
      "text/plain": [
       "<matplotlib.figure.Figure at 0x7f64f8cdfd68>"
      ]
     },
     "metadata": {},
     "output_type": "display_data"
    }
   ],
   "source": [
    "xindex = np.arange(100)\n",
    "lst = np.zeros(100)\n",
    "for i in xindex:\n",
    "    lst[i] = gene_counts(chrom2_test, \"MN_hyper_cov\", i)\n",
    "plt.plot(xindex, lst)"
   ]
  },
  {
   "cell_type": "code",
   "execution_count": 94,
   "metadata": {},
   "outputs": [
    {
     "data": {
      "text/plain": [
       "[<matplotlib.lines.Line2D at 0x7f64e54f7390>]"
      ]
     },
     "execution_count": 94,
     "metadata": {},
     "output_type": "execute_result"
    },
    {
     "data": {
      "image/png": "[encoded data removed]",
      "text/plain": [
       "<matplotlib.figure.Figure at 0x7f64f8cdf630>"
      ]
     },
     "metadata": {},
     "output_type": "display_data"
    }
   ],
   "source": [
    "xindex = np.arange(100)\n",
    "lst = np.zeros(100)\n",
    "for i in xindex:\n",
    "    lst[i] = gene_counts(chrom2_test, \"ES_hyper_cov\", i)\n",
    "plt.plot(xindex, lst)"
   ]
  },
  {
   "cell_type": "code",
   "execution_count": 54,
   "metadata": {},
   "outputs": [],
   "source": [
    "def gene_on_off(genes, celltype, threshold):\n",
    "    return genes[celltype].apply(lambda x: 1 if x > threshold else 0)"
   ]
  },
  {
   "cell_type": "code",
   "execution_count": 69,
   "metadata": {},
   "outputs": [
    {
     "data": {
      "image/png": "[encoded data removed]",
      "text/plain": [
       "<matplotlib.figure.Figure at 0x7f64f8daa7b8>"
      ]
     },
     "metadata": {},
     "output_type": "display_data"
    }
   ],
   "source": [
    "#using 25 as threshold for MN, 15 as threshold for ES\n",
    "img = np.array([chrom1_test_copy.MN_hyper_cov.apply(lambda x: 1 if x > 30 else 0)\n",
    "                , chrom1_test_copy.ES_hyper_cov.apply(lambda x: 1 if x > 15 else 0)])\n",
    "f = plt.figure()\n",
    "f.set_size_inches(18, 3)\n",
    "im = plt.imshow(img, aspect=\"auto\")"
   ]
  },
  {
   "cell_type": "code",
   "execution_count": 95,
   "metadata": {},
   "outputs": [
    {
     "data": {
      "image/png": "[encoded data removed]",
      "text/plain": [
       "<matplotlib.figure.Figure at 0x7f64f8ddc128>"
      ]
     },
     "metadata": {},
     "output_type": "display_data"
    }
   ],
   "source": [
    "#using 25 as threshold for MN, 15 as threshold for ES\n",
    "img = np.array([chrom2_test.MN_hyper_cov.apply(lambda x: 1 if x > 30 else 0)\n",
    "                , chrom2_test.ES_hyper_cov.apply(lambda x: 1 if x > 15 else 0)])\n",
    "f = plt.figure()\n",
    "f.set_size_inches(18, 3)\n",
    "im = plt.imshow(img, aspect=\"auto\")"
   ]
  },
  {
   "cell_type": "code",
   "execution_count": 106,
   "metadata": {},
   "outputs": [
    {
     "data": {
      "image/png": "[encoded data removed]",
      "text/plain": [
       "<matplotlib.figure.Figure at 0x7f64f8d44c18>"
      ]
     },
     "metadata": {},
     "output_type": "display_data"
    }
   ],
   "source": [
    "#using 25 as threshold for MN, 15 as threshold for ES\n",
    "img = np.array([chrom3_test.MN_hyper_cov.apply(lambda x: 1 if x > 30 else 0)\n",
    "                , chrom3_test.ES_hyper_cov.apply(lambda x: 1 if x > 15 else 0)])\n",
    "f = plt.figure()\n",
    "f.set_size_inches(18, 3)\n",
    "im = plt.imshow(img, aspect=\"auto\")"
   ]
  },
  {
   "cell_type": "code",
   "execution_count": 108,
   "metadata": {},
   "outputs": [],
   "source": [
    "df = pd.concat([chrom1_test_copy, chrom2_test, chrom3_test])\n",
    "df.to_csv(\"chrom_hypersensitivity_1-3.csv\", sep='\\t')"
   ]
  },
  {
   "cell_type": "code",
   "execution_count": 37,
   "metadata": {},
   "outputs": [],
   "source": [
    "chrom1_MN_topgenes = chrom1_test_copy.sort_values([\"MN_hyper_cov\"], ascending =False)\n",
    "MN_topgenes = chrom1_MN_topgenes.head(800)"
   ]
  },
  {
   "cell_type": "code",
   "execution_count": 38,
   "metadata": {},
   "outputs": [],
   "source": [
    "chrom1_ES_topgenes = chrom1_test_copy.sort_values([\"ES_hyper_cov\"], ascending=False)\n",
    "ES_topgenes = chrom1_ES_topgenes.head(800)"
   ]
  },
  {
   "cell_type": "code",
   "execution_count": 39,
   "metadata": {},
   "outputs": [],
   "source": [
    "MN_topgenes.reset_index(inplace=True)\n",
    "ES_topgenes.reset_index(inplace=True)"
   ]
  },
  {
   "cell_type": "code",
   "execution_count": 96,
   "metadata": {},
   "outputs": [
    {
     "data": {
      "text/plain": [
       "636"
      ]
     },
     "execution_count": 96,
     "metadata": {},
     "output_type": "execute_result"
    }
   ],
   "source": [
    "len(ES_topgenes.merge(MN_topgenes, indicator=True, how='inner', on='name2'))\n",
    "# 37 out of the 100 top genes are the same for both cell types - 161 genes that are not the same in the 200 count set"
   ]
  },
  {
   "cell_type": "code",
   "execution_count": null,
   "metadata": {},
   "outputs": [],
   "source": []
  }
 ],
 "metadata": {
  "kernelspec": {
   "display_name": "Python 3",
   "language": "python",
   "name": "python3"
  },
  "language_info": {
   "codemirror_mode": {
    "name": "ipython",
    "version": 3
   },
   "file_extension": ".py",
   "mimetype": "text/x-python",
   "name": "python",
   "nbconvert_exporter": "python",
   "pygments_lexer": "ipython3",
   "version": "3.6.4"
  }
 },
 "nbformat": 4,
 "nbformat_minor": 2
}
